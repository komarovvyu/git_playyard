{
 "cells": [
  {
   "cell_type": "markdown",
   "id": "9edc18d8-681f-4a2c-a93b-effdfa8dd688",
   "metadata": {},
   "source": [
    "# Examples of MathJax formula scripting in JupyterNotebook\n",
    "The following examples were taken from web: [tutorial1](https://math.meta.stackexchange.com/questions/5020/mathjax-basic-tutorial-and-quick-reference)\n",
    "Use `$ ... $` statement to enclose inline (as regular text) formula script and `$$ ... $$` to enclose displayed (as a centred stande-alon entity) one."
   ]
  },
  {
   "cell_type": "markdown",
   "id": "09cb4701-93eb-4489-b2f9-4fbee368fcdf",
   "metadata": {
    "jp-MarkdownHeadingCollapsed": true
   },
   "source": [
    "## Alphabets, fonts, etc.\n",
    "The comprehensive LaTeX Symbol List is [here](https://mirror.macomnet.net/pub/CTAN/info/symbols/comprehensive/symbols-a4.pdf).\n",
    "\n",
    "**Fonts**\n",
    "- \"blackboard bold\": `$\\Bbb{ABc}$` $\\rightarrow$ $\\Bbb{ABc}$;\n",
    "- script letters: `$\\mathfrak{ABc}$` $\\rightarrow$ $\\mathfrak{ABc}$;\n",
    "- more 8 fonts in [tutorial1](https://math.meta.stackexchange.com/questions/5020/mathjax-basic-tutorial-and-quick-reference)\n",
    "\n",
    "**Latinic letters**\n",
    "- lower-case l: `$\\ell$` $\\rightarrow$  $\\ell$\n",
    "\n",
    "**Greek letters**\n",
    "- capital: `$\\Gamma$` $\\rightarrow$ $\\Gamma$, `$\\Delta$` $\\rightarrow$ $\\Delta$, `$\\Omega$` $\\rightarrow$ $\\Omega$, the others have the same shapes as latinic ones and have no any special \\-tags;\n",
    "- lowercase: `$\\alpha$`, `$\\beta$`, …, `$\\omega$`  $\\rightarrow$  $\\alpha$, $\\beta$, …, $\\omega$\n",
    "\n",
    "**Special symbols**\n",
    "- `$\\infty \\aleph_0$` $\\rightarrow$  $\\infty$ $\\aleph_0$\n",
    "- `$\\nabla \\partial$` $\\rightarrow$  $\\nabla$ $\\partial$\n",
    "- `$\\Im \\Re$` $\\rightarrow$  $\\Im$ $\\Re$\n",
    "\n",
    "**Spaces and plane text in formulae**\n",
    "- `$a   b$` gives $a   b$ independently of the inserted space symmbols number;\n",
    "- `$a\\,b$` $\\rightarrow$  $a\\,b$, `$a\\;b$` $\\rightarrow$  $a\\;b$;\n",
    "- `$a \\quad b$` $\\rightarrow$  $a \\quad b$, `$a \\qquad b$` $\\rightarrow$  $a \\qquad b$;\n",
    "- `$a \\text{ regular styled   text with all    spaces } b$` $\\rightarrow$ $a \\text{ regular styled   text with all    spaces } b$"
   ]
  },
  {
   "cell_type": "markdown",
   "id": "3b1f9e75-b8db-42b3-bc41-abb449fdd10b",
   "metadata": {
    "jp-MarkdownHeadingCollapsed": true
   },
   "source": [
    "## Supercsriptings, accents and diactrics\n"
   ]
  },
  {
   "cell_type": "markdown",
   "id": "755d6d7f-a0a7-42bf-82d9-b35fe66c936c",
   "metadata": {
    "jp-MarkdownHeadingCollapsed": true
   },
   "source": [
    "## Parentheses"
   ]
  },
  {
   "cell_type": "markdown",
   "id": "3de329c0-1bbc-44a7-ac6a-e52596c540ef",
   "metadata": {},
   "source": [
    "## Polynomials"
   ]
  },
  {
   "cell_type": "markdown",
   "id": "f9eea781-9892-4d27-9b68-17a4e9ee646f",
   "metadata": {
    "jp-MarkdownHeadingCollapsed": true
   },
   "source": [
    "## Trigonometric functions"
   ]
  },
  {
   "cell_type": "code",
   "execution_count": null,
   "id": "f6e0ccd4-5f53-4eac-8ba8-5cc0cafa1a49",
   "metadata": {},
   "outputs": [],
   "source": []
  }
 ],
 "metadata": {
  "kernelspec": {
   "display_name": "Python 3 (ipykernel)",
   "language": "python",
   "name": "python3"
  },
  "language_info": {
   "codemirror_mode": {
    "name": "ipython",
    "version": 3
   },
   "file_extension": ".py",
   "mimetype": "text/x-python",
   "name": "python",
   "nbconvert_exporter": "python",
   "pygments_lexer": "ipython3",
   "version": "3.12.3"
  }
 },
 "nbformat": 4,
 "nbformat_minor": 5
}
