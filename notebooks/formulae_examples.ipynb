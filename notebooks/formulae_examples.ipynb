{
 "cells": [
  {
   "cell_type": "markdown",
   "id": "9edc18d8-681f-4a2c-a93b-effdfa8dd688",
   "metadata": {},
   "source": [
    "# Examples of MathJax formula scripting in JupyterNotebook\n",
    "The following examples were taken from web: [tutorial1](https://math.meta.stackexchange.com/questions/5020/mathjax-basic-tutorial-and-quick-reference)\n",
    "Use `$ ... $` statement to enclose inline (as regular text) formula script and `... ... ` to enclose displayed (as a centred stande-alon entity) one."
   ]
  },
  {
   "cell_type": "markdown",
   "id": "09cb4701-93eb-4489-b2f9-4fbee368fcdf",
   "metadata": {
    "jp-MarkdownHeadingCollapsed": true
   },
   "source": [
    "## Alphabets, fonts, etc."
   ]
  },
  {
   "cell_type": "markdown",
   "id": "9c936256-e3ec-465a-a813-86d675f7e232",
   "metadata": {},
   "source": [
    "The comprehensive LaTeX Symbol List is [here](https://mirror.macomnet.net/pub/CTAN/info/symbols/comprehensive/symbols-a4.pdf).\n",
    "\n",
    "**Fonts**\n",
    "- \"blackboard bold\": `$\\Bbb{ABc}$` $\\to$ $\\Bbb{ABc}$;\n",
    "- script letters: `$\\mathfrak{ABc}$` $\\to$ $\\mathfrak{ABc}$;\n",
    "- more 8 fonts in [tutorial1](https://math.meta.stackexchange.com/questions/5020/mathjax-basic-tutorial-and-quick-reference)\n",
    "\n",
    "**Latinic letters**\n",
    "- lower-case l: `$\\ell$` $\\to$  $\\ell$\n",
    "\n",
    "**Greek letters**\n",
    "- capital: `$\\Gamma$` $\\to$ $\\Gamma$, `$\\Delta$` $\\to$ $\\Delta$, `$\\Omega$` $\\to$ $\\Omega$, the others have the same shapes as latinic ones and have no any special `\\`-tags;\n",
    "- lowercase: `$\\alpha$`, `$\\beta$`, …, `$\\omega$`  $\\to$  $\\alpha$, $\\beta$, …, $\\omega$\n",
    "\n",
    "**Special symbols**\n",
    "- `$\\infty \\aleph_0$` $\\to$  $\\infty$ $\\aleph_0$\n",
    "- `$\\nabla \\partial$` $\\to$  $\\nabla$ $\\partial$\n",
    "- `$\\Im \\Re$` $\\to$  $\\Im$ $\\Re$\n",
    "\n",
    "**Spaces and plane text in formulae**\n",
    "- `$a   b$` gives $a   b$ independently of the inserted space symmbols number;\n",
    "- `$a\\,b$` $\\to$  $a\\,b$, `$a\\;b$` $\\to$  $a\\;b$;\n",
    "- `$a \\quad b$` $\\to$  $a \\quad b$, `$a \\qquad b$` $\\to$  $a \\qquad b$;\n",
    "- `$a \\text{ regular styled   text with all    spaces } b$` $\\to$ $a \\text{ regular styled   text with all    spaces } b$"
   ]
  },
  {
   "cell_type": "markdown",
   "id": "3b1f9e75-b8db-42b3-bc41-abb449fdd10b",
   "metadata": {
    "jp-MarkdownHeadingCollapsed": true
   },
   "source": [
    "## Supercsriptings, accents and diactrics\n"
   ]
  },
  {
   "cell_type": "markdown",
   "id": "755d6d7f-a0a7-42bf-82d9-b35fe66c936c",
   "metadata": {
    "jp-MarkdownHeadingCollapsed": true
   },
   "source": [
    "## Parentheses"
   ]
  },
  {
   "cell_type": "markdown",
   "id": "3de329c0-1bbc-44a7-ac6a-e52596c540ef",
   "metadata": {
    "jp-MarkdownHeadingCollapsed": true
   },
   "source": [
    "## Polynomials"
   ]
  },
  {
   "cell_type": "markdown",
   "id": "f9eea781-9892-4d27-9b68-17a4e9ee646f",
   "metadata": {
    "jp-MarkdownHeadingCollapsed": true
   },
   "source": [
    "## Trigonometric functions"
   ]
  }
 ],
 "metadata": {
  "kernelspec": {
   "display_name": "Python 3 (ipykernel)",
   "language": "python",
   "name": "python3"
  },
  "language_info": {
   "codemirror_mode": {
    "name": "ipython",
    "version": 3
   },
   "file_extension": ".py",
   "mimetype": "text/x-python",
   "name": "python",
   "nbconvert_exporter": "python",
   "pygments_lexer": "ipython3",
   "version": "3.12.3"
  }
 },
 "nbformat": 4,
 "nbformat_minor": 5
}
