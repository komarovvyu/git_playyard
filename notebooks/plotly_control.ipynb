{
 "cells": [
  {
   "cell_type": "markdown",
   "id": "c5786db2-b9f9-4317-9b7f-e5842655ca1b",
   "metadata": {},
   "source": [
    "# ```Plotly``` control elements graphic in ```Jupyter Notebook```"
   ]
  },
  {
   "cell_type": "markdown",
   "id": "57627403-ecee-4555-94cc-daa57420d39c",
   "metadata": {},
   "source": [
    "## Click Events\n",
    "См. [plotly.com/python](https://plotly.com/python/click-events/)"
   ]
  },
  {
   "cell_type": "markdown",
   "id": "49e0aa3f-821b-4e52-bf73-77230377f1f5",
   "metadata": {},
   "source": [
    "## Buttons\n",
    "См. [туториал Habr](https://habr.com/ru/articles/502958/)\n",
    "См. [plotly.com/python](https://plotly.com/python/custom-buttons/)"
   ]
  },
  {
   "cell_type": "markdown",
   "id": "237f901b-f4d4-4696-84af-96fe52d484c8",
   "metadata": {},
   "source": [
    "## Slidebars\n",
    "См. [туториал Habr](https://habr.com/ru/articles/502958/)\n",
    "См. [plotly.com/python](https://plotly.com/python/sliders/)"
   ]
  },
  {
   "cell_type": "markdown",
   "id": "69318ed6-c1e0-4845-a337-c3528929d2b1",
   "metadata": {},
   "source": [
    "## Dropdown Menus\n",
    "См. [plotly.com/python](https://plotly.com/python/dropdowns/)"
   ]
  }
 ],
 "metadata": {
  "kernelspec": {
   "display_name": "Python 3 (ipykernel)",
   "language": "python",
   "name": "python3"
  },
  "language_info": {
   "codemirror_mode": {
    "name": "ipython",
    "version": 3
   },
   "file_extension": ".py",
   "mimetype": "text/x-python",
   "name": "python",
   "nbconvert_exporter": "python",
   "pygments_lexer": "ipython3",
   "version": "3.12.3"
  }
 },
 "nbformat": 4,
 "nbformat_minor": 5
}
